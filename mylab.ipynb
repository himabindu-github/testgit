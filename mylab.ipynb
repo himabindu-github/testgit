{
 "cells": [
  {
   "cell_type": "code",
   "execution_count": null,
   "id": "98a2b443-aa07-47ef-b073-9a45d397f765",
   "metadata": {},
   "outputs": [],
   "source": []
  },
  {
   "cell_type": "code",
   "execution_count": 1,
   "id": "4d74f9d9-7020-4696-821f-205363ccf393",
   "metadata": {},
   "outputs": [
    {
     "name": "stdout",
     "output_type": "stream",
     "text": [
      "practice\n"
     ]
    }
   ],
   "source": [
    "print(\"practice\")"
   ]
  },
  {
   "cell_type": "code",
   "execution_count": 3,
   "id": "b644e3d5-ec08-4cc2-9785-1d5f1797f6c6",
   "metadata": {},
   "outputs": [
    {
     "data": {
      "text/plain": [
       "58"
      ]
     },
     "execution_count": 3,
     "metadata": {},
     "output_type": "execute_result"
    }
   ],
   "source": [
    "25+33"
   ]
  },
  {
   "cell_type": "code",
   "execution_count": null,
   "id": "35e999a3-39d5-4cc4-995a-8e900acfd94e",
   "metadata": {},
   "outputs": [],
   "source": []
  },
  {
   "cell_type": "code",
   "execution_count": null,
   "id": "466f7988-0be2-4811-a0fd-def6727b1f4d",
   "metadata": {},
   "outputs": [],
   "source": []
  },
  {
   "cell_type": "code",
   "execution_count": null,
   "id": "61907ad8-409c-4797-9bc3-5ce75d611104",
   "metadata": {},
   "outputs": [],
   "source": []
  }
 ],
 "metadata": {
  "kernelspec": {
   "display_name": "Python",
   "language": "python",
   "name": "conda-env-python-py"
  },
  "language_info": {
   "codemirror_mode": {
    "name": "ipython",
    "version": 3
   },
   "file_extension": ".py",
   "mimetype": "text/x-python",
   "name": "python",
   "nbconvert_exporter": "python",
   "pygments_lexer": "ipython3",
   "version": "3.7.12"
  }
 },
 "nbformat": 4,
 "nbformat_minor": 5
}
